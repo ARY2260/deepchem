{
 "cells": [
  {
   "cell_type": "code",
   "execution_count": 1,
   "metadata": {},
   "outputs": [
    {
     "ename": "ImportError",
     "evalue": "DLL load failed while importing rdBase: The specified module could not be found.",
     "output_type": "error",
     "traceback": [
      "\u001b[1;31m---------------------------------------------------------------------------\u001b[0m",
      "\u001b[1;31mImportError\u001b[0m                               Traceback (most recent call last)",
      "\u001b[1;32md:\\workshop\\###DeepChem\\deepchem\\test.ipynb Cell 1\u001b[0m in \u001b[0;36m<module>\u001b[1;34m\u001b[0m\n\u001b[1;32m----> <a href='vscode-notebook-cell:/d%3A/workshop/%23%23%23DeepChem/deepchem/test.ipynb#W0sZmlsZQ%3D%3D?line=0'>1</a>\u001b[0m \u001b[39mimport\u001b[39;00m \u001b[39mdeepchem\u001b[39;00m \u001b[39mas\u001b[39;00m \u001b[39mdc\u001b[39;00m\n\u001b[0;32m      <a href='vscode-notebook-cell:/d%3A/workshop/%23%23%23DeepChem/deepchem/test.ipynb#W0sZmlsZQ%3D%3D?line=1'>2</a>\u001b[0m loader \u001b[39m=\u001b[39m dc\u001b[39m.\u001b[39mdata\u001b[39m.\u001b[39mCSVLoader([\u001b[39m\"\u001b[39m\u001b[39my\u001b[39m\u001b[39m\"\u001b[39m], feature_field\u001b[39m=\u001b[39m\u001b[39m\"\u001b[39m\u001b[39msmiles\u001b[39m\u001b[39m\"\u001b[39m,  featurizer\u001b[39m=\u001b[39mdc\u001b[39m.\u001b[39mfeat\u001b[39m.\u001b[39mCircularFingerprint(size\u001b[39m=\u001b[39m\u001b[39m2048\u001b[39m, radius\u001b[39m=\u001b[39m\u001b[39m4\u001b[39m))\n\u001b[0;32m      <a href='vscode-notebook-cell:/d%3A/workshop/%23%23%23DeepChem/deepchem/test.ipynb#W0sZmlsZQ%3D%3D?line=2'>3</a>\u001b[0m CF_dataset \u001b[39m=\u001b[39m loader\u001b[39m.\u001b[39mcreate_dataset(\u001b[39m\"\u001b[39m\u001b[39mtest.csv\u001b[39m\u001b[39m\"\u001b[39m)\n",
      "File \u001b[1;32md:\\workshop\\###DeepChem\\deepchem\\deepchem\\__init__.py:8\u001b[0m, in \u001b[0;36m<module>\u001b[1;34m\u001b[0m\n\u001b[0;32m      5\u001b[0m \u001b[39m# If you push the tag, please remove `.dev`\u001b[39;00m\n\u001b[0;32m      6\u001b[0m __version__ \u001b[39m=\u001b[39m \u001b[39m'\u001b[39m\u001b[39m2.7.1\u001b[39m\u001b[39m'\u001b[39m\n\u001b[1;32m----> 8\u001b[0m \u001b[39mimport\u001b[39;00m \u001b[39mdeepchem\u001b[39;00m\u001b[39m.\u001b[39;00m\u001b[39mdata\u001b[39;00m\n\u001b[0;32m      9\u001b[0m \u001b[39mimport\u001b[39;00m \u001b[39mdeepchem\u001b[39;00m\u001b[39m.\u001b[39;00m\u001b[39mfeat\u001b[39;00m\n\u001b[0;32m     10\u001b[0m \u001b[39mimport\u001b[39;00m \u001b[39mdeepchem\u001b[39;00m\u001b[39m.\u001b[39;00m\u001b[39mhyper\u001b[39;00m\n",
      "File \u001b[1;32md:\\workshop\\###DeepChem\\deepchem\\deepchem\\data\\__init__.py:16\u001b[0m, in \u001b[0;36m<module>\u001b[1;34m\u001b[0m\n\u001b[0;32m     14\u001b[0m \u001b[39mfrom\u001b[39;00m \u001b[39mdeepchem\u001b[39;00m\u001b[39m.\u001b[39;00m\u001b[39mdata\u001b[39;00m\u001b[39m.\u001b[39;00m\u001b[39mdatasets\u001b[39;00m \u001b[39mimport\u001b[39;00m densify_features\n\u001b[0;32m     15\u001b[0m \u001b[39mfrom\u001b[39;00m \u001b[39mdeepchem\u001b[39;00m\u001b[39m.\u001b[39;00m\u001b[39mdata\u001b[39;00m\u001b[39m.\u001b[39;00m\u001b[39msupports\u001b[39;00m \u001b[39mimport\u001b[39;00m \u001b[39m*\u001b[39m\n\u001b[1;32m---> 16\u001b[0m \u001b[39mfrom\u001b[39;00m \u001b[39mdeepchem\u001b[39;00m\u001b[39m.\u001b[39;00m\u001b[39mdata\u001b[39;00m\u001b[39m.\u001b[39;00m\u001b[39mdata_loader\u001b[39;00m \u001b[39mimport\u001b[39;00m DataLoader\n\u001b[0;32m     17\u001b[0m \u001b[39mfrom\u001b[39;00m \u001b[39mdeepchem\u001b[39;00m\u001b[39m.\u001b[39;00m\u001b[39mdata\u001b[39;00m\u001b[39m.\u001b[39;00m\u001b[39mdata_loader\u001b[39;00m \u001b[39mimport\u001b[39;00m CSVLoader\n\u001b[0;32m     18\u001b[0m \u001b[39mfrom\u001b[39;00m \u001b[39mdeepchem\u001b[39;00m\u001b[39m.\u001b[39;00m\u001b[39mdata\u001b[39;00m\u001b[39m.\u001b[39;00m\u001b[39mdata_loader\u001b[39;00m \u001b[39mimport\u001b[39;00m UserCSVLoader\n",
      "File \u001b[1;32md:\\workshop\\###DeepChem\\deepchem\\deepchem\\data\\data_loader.py:17\u001b[0m, in \u001b[0;36m<module>\u001b[1;34m\u001b[0m\n\u001b[0;32m     15\u001b[0m \u001b[39mfrom\u001b[39;00m \u001b[39mdeepchem\u001b[39;00m\u001b[39m.\u001b[39;00m\u001b[39mutils\u001b[39;00m\u001b[39m.\u001b[39;00m\u001b[39mtyping\u001b[39;00m \u001b[39mimport\u001b[39;00m OneOrMany\n\u001b[0;32m     16\u001b[0m \u001b[39mfrom\u001b[39;00m \u001b[39mdeepchem\u001b[39;00m\u001b[39m.\u001b[39;00m\u001b[39mutils\u001b[39;00m\u001b[39m.\u001b[39;00m\u001b[39mdata_utils\u001b[39;00m \u001b[39mimport\u001b[39;00m load_image_files, load_csv_files, load_json_files, load_sdf_files, unzip_file\n\u001b[1;32m---> 17\u001b[0m \u001b[39mfrom\u001b[39;00m \u001b[39mdeepchem\u001b[39;00m\u001b[39m.\u001b[39;00m\u001b[39mfeat\u001b[39;00m \u001b[39mimport\u001b[39;00m UserDefinedFeaturizer, Featurizer\n\u001b[0;32m     18\u001b[0m \u001b[39mfrom\u001b[39;00m \u001b[39mdeepchem\u001b[39;00m\u001b[39m.\u001b[39;00m\u001b[39mdata\u001b[39;00m \u001b[39mimport\u001b[39;00m Dataset, DiskDataset, NumpyDataset, ImageDataset\n\u001b[0;32m     19\u001b[0m \u001b[39mfrom\u001b[39;00m \u001b[39mdeepchem\u001b[39;00m\u001b[39m.\u001b[39;00m\u001b[39mfeat\u001b[39;00m\u001b[39m.\u001b[39;00m\u001b[39mmolecule_featurizers\u001b[39;00m \u001b[39mimport\u001b[39;00m OneHotFeaturizer\n",
      "File \u001b[1;32md:\\workshop\\###DeepChem\\deepchem\\deepchem\\feat\\__init__.py:21\u001b[0m, in \u001b[0;36m<module>\u001b[1;34m\u001b[0m\n\u001b[0;32m     18\u001b[0m \u001b[39mfrom\u001b[39;00m \u001b[39mdeepchem\u001b[39;00m\u001b[39m.\u001b[39;00m\u001b[39mfeat\u001b[39;00m\u001b[39m.\u001b[39;00m\u001b[39mbinding_pocket_features\u001b[39;00m \u001b[39mimport\u001b[39;00m BindingPocketFeaturizer\n\u001b[0;32m     20\u001b[0m \u001b[39m# molecule featurizers\u001b[39;00m\n\u001b[1;32m---> 21\u001b[0m \u001b[39mfrom\u001b[39;00m \u001b[39mdeepchem\u001b[39;00m\u001b[39m.\u001b[39;00m\u001b[39mfeat\u001b[39;00m\u001b[39m.\u001b[39;00m\u001b[39mmolecule_featurizers\u001b[39;00m \u001b[39mimport\u001b[39;00m AtomicCoordinates\n\u001b[0;32m     22\u001b[0m \u001b[39mfrom\u001b[39;00m \u001b[39mdeepchem\u001b[39;00m\u001b[39m.\u001b[39;00m\u001b[39mfeat\u001b[39;00m\u001b[39m.\u001b[39;00m\u001b[39mmolecule_featurizers\u001b[39;00m \u001b[39mimport\u001b[39;00m BPSymmetryFunctionInput\n\u001b[0;32m     23\u001b[0m \u001b[39mfrom\u001b[39;00m \u001b[39mdeepchem\u001b[39;00m\u001b[39m.\u001b[39;00m\u001b[39mfeat\u001b[39;00m\u001b[39m.\u001b[39;00m\u001b[39mmolecule_featurizers\u001b[39;00m \u001b[39mimport\u001b[39;00m CircularFingerprint\n",
      "File \u001b[1;32md:\\workshop\\###DeepChem\\deepchem\\deepchem\\feat\\molecule_featurizers\\__init__.py:10\u001b[0m, in \u001b[0;36m<module>\u001b[1;34m\u001b[0m\n\u001b[0;32m      8\u001b[0m \u001b[39mfrom\u001b[39;00m \u001b[39mdeepchem\u001b[39;00m\u001b[39m.\u001b[39;00m\u001b[39mfeat\u001b[39;00m\u001b[39m.\u001b[39;00m\u001b[39mmolecule_featurizers\u001b[39;00m\u001b[39m.\u001b[39;00m\u001b[39mmaccs_keys_fingerprint\u001b[39;00m \u001b[39mimport\u001b[39;00m MACCSKeysFingerprint\n\u001b[0;32m      9\u001b[0m \u001b[39mfrom\u001b[39;00m \u001b[39mdeepchem\u001b[39;00m\u001b[39m.\u001b[39;00m\u001b[39mfeat\u001b[39;00m\u001b[39m.\u001b[39;00m\u001b[39mmolecule_featurizers\u001b[39;00m\u001b[39m.\u001b[39;00m\u001b[39mmordred_descriptors\u001b[39;00m \u001b[39mimport\u001b[39;00m MordredDescriptors\n\u001b[1;32m---> 10\u001b[0m \u001b[39mfrom\u001b[39;00m \u001b[39mdeepchem\u001b[39;00m\u001b[39m.\u001b[39;00m\u001b[39mfeat\u001b[39;00m\u001b[39m.\u001b[39;00m\u001b[39mmolecule_featurizers\u001b[39;00m\u001b[39m.\u001b[39;00m\u001b[39mmol2vec_fingerprint\u001b[39;00m \u001b[39mimport\u001b[39;00m Mol2VecFingerprint\n\u001b[0;32m     11\u001b[0m \u001b[39mfrom\u001b[39;00m \u001b[39mdeepchem\u001b[39;00m\u001b[39m.\u001b[39;00m\u001b[39mfeat\u001b[39;00m\u001b[39m.\u001b[39;00m\u001b[39mmolecule_featurizers\u001b[39;00m\u001b[39m.\u001b[39;00m\u001b[39mone_hot_featurizer\u001b[39;00m \u001b[39mimport\u001b[39;00m OneHotFeaturizer\n\u001b[0;32m     12\u001b[0m \u001b[39mfrom\u001b[39;00m \u001b[39mdeepchem\u001b[39;00m\u001b[39m.\u001b[39;00m\u001b[39mfeat\u001b[39;00m\u001b[39m.\u001b[39;00m\u001b[39mmolecule_featurizers\u001b[39;00m\u001b[39m.\u001b[39;00m\u001b[39msparse_matrix_one_hot_featurizer\u001b[39;00m \u001b[39mimport\u001b[39;00m SparseMatrixOneHotFeaturizer\n",
      "File \u001b[1;32md:\\workshop\\###DeepChem\\deepchem\\deepchem\\feat\\molecule_featurizers\\mol2vec_fingerprint.py:5\u001b[0m, in \u001b[0;36m<module>\u001b[1;34m\u001b[0m\n\u001b[0;32m      2\u001b[0m \u001b[39mfrom\u001b[39;00m \u001b[39mtyping\u001b[39;00m \u001b[39mimport\u001b[39;00m Optional\n\u001b[0;32m      4\u001b[0m \u001b[39mimport\u001b[39;00m \u001b[39mnumpy\u001b[39;00m \u001b[39mas\u001b[39;00m \u001b[39mnp\u001b[39;00m\n\u001b[1;32m----> 5\u001b[0m \u001b[39mfrom\u001b[39;00m \u001b[39mrdkit\u001b[39;00m\u001b[39m.\u001b[39;00m\u001b[39mChem\u001b[39;00m \u001b[39mimport\u001b[39;00m AllChem\n\u001b[0;32m      6\u001b[0m \u001b[39mfrom\u001b[39;00m \u001b[39mdeepchem\u001b[39;00m\u001b[39m.\u001b[39;00m\u001b[39mutils\u001b[39;00m \u001b[39mimport\u001b[39;00m download_url, get_data_dir, untargz_file\n\u001b[0;32m      7\u001b[0m \u001b[39mfrom\u001b[39;00m \u001b[39mdeepchem\u001b[39;00m\u001b[39m.\u001b[39;00m\u001b[39mutils\u001b[39;00m\u001b[39m.\u001b[39;00m\u001b[39mtyping\u001b[39;00m \u001b[39mimport\u001b[39;00m RDKitMol\n",
      "File \u001b[1;32mc:\\SPB_DATA\\.conda\\envs\\deepchem\\lib\\site-packages\\rdkit_pypi-2021.9.4-py3.8-win-amd64.egg\\rdkit\\__init__.py:35\u001b[0m, in \u001b[0;36m<module>\u001b[1;34m\u001b[0m\n\u001b[0;32m     31\u001b[0m \u001b[39mdel\u001b[39;00m _delvewheel_init_patch_0_0_17\n\u001b[0;32m     32\u001b[0m \u001b[39m# end delvewheel patch\u001b[39;00m\n\u001b[0;32m     33\u001b[0m \n\u001b[0;32m     34\u001b[0m \u001b[39m# Need to import rdBase to properly wrap exceptions                                                                                                         #  otherwise they will leak memory \u001b[39;00m\n\u001b[1;32m---> 35\u001b[0m \u001b[39mfrom\u001b[39;00m \u001b[39m.\u001b[39;00m \u001b[39mimport\u001b[39;00m rdBase\n\u001b[0;32m     37\u001b[0m \u001b[39mtry\u001b[39;00m:\n\u001b[0;32m     38\u001b[0m   \u001b[39mfrom\u001b[39;00m \u001b[39m.\u001b[39;00m\u001b[39mrdBase\u001b[39;00m \u001b[39mimport\u001b[39;00m rdkitVersion \u001b[39mas\u001b[39;00m __version__\n",
      "\u001b[1;31mImportError\u001b[0m: DLL load failed while importing rdBase: The specified module could not be found."
     ]
    }
   ],
   "source": [
    "import deepchem as dc\n",
    "loader = dc.data.CSVLoader([\"y\"], feature_field=\"smiles\",  featurizer=dc.feat.CircularFingerprint(size=2048, radius=4))\n",
    "CF_dataset = loader.create_dataset(\"test.csv\")"
   ]
  }
 ],
 "metadata": {
  "kernelspec": {
   "display_name": "deepchem",
   "language": "python",
   "name": "python3"
  },
  "language_info": {
   "codemirror_mode": {
    "name": "ipython",
    "version": 3
   },
   "file_extension": ".py",
   "mimetype": "text/x-python",
   "name": "python",
   "nbconvert_exporter": "python",
   "pygments_lexer": "ipython3",
   "version": "3.8.12"
  },
  "orig_nbformat": 4,
  "vscode": {
   "interpreter": {
    "hash": "0fca2ccc350e7c0ed9da25cbf64f304ae28a8399e9bc0b6612e6be639cc24e00"
   }
  }
 },
 "nbformat": 4,
 "nbformat_minor": 2
}
